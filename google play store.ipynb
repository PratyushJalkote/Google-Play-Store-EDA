{
 "cells": [
  {
   "cell_type": "code",
   "execution_count": 1,
   "id": "333e6d24",
   "metadata": {
    "scrolled": true
   },
   "outputs": [],
   "source": [
    "import pandas as pd\n",
    "import numpy as np\n",
    "import matplotlib.pyplot as plt\n",
    "import seaborn as sns"
   ]
  },
  {
   "cell_type": "code",
   "execution_count": 2,
   "id": "6e75024f",
   "metadata": {},
   "outputs": [],
   "source": [
    "# Load the dataset\n",
    "file_path = 'D:/googleplaystore.csv'  \n",
    "google_play_data = pd.read_csv(file_path)"
   ]
  },
  {
   "cell_type": "code",
   "execution_count": 3,
   "id": "fcdbdeba",
   "metadata": {
    "scrolled": true
   },
   "outputs": [
    {
     "name": "stdout",
     "output_type": "stream",
     "text": [
      "<class 'pandas.core.frame.DataFrame'>\n",
      "RangeIndex: 10841 entries, 0 to 10840\n",
      "Data columns (total 13 columns):\n",
      " #   Column          Non-Null Count  Dtype  \n",
      "---  ------          --------------  -----  \n",
      " 0   App             10841 non-null  object \n",
      " 1   Category        10841 non-null  object \n",
      " 2   Rating          9367 non-null   float64\n",
      " 3   Reviews         10841 non-null  object \n",
      " 4   Size            10841 non-null  object \n",
      " 5   Installs        10841 non-null  object \n",
      " 6   Type            10840 non-null  object \n",
      " 7   Price           10841 non-null  object \n",
      " 8   Content Rating  10840 non-null  object \n",
      " 9   Genres          10841 non-null  object \n",
      " 10  Last Updated    10841 non-null  object \n",
      " 11  Current Ver     10833 non-null  object \n",
      " 12  Android Ver     10838 non-null  object \n",
      "dtypes: float64(1), object(12)\n",
      "memory usage: 1.1+ MB\n"
     ]
    }
   ],
   "source": [
    "google_play_data.info()"
   ]
  },
  {
   "cell_type": "code",
   "execution_count": 4,
   "id": "46e5d550",
   "metadata": {
    "scrolled": true
   },
   "outputs": [
    {
     "data": {
      "text/html": [
       "<div>\n",
       "<style scoped>\n",
       "    .dataframe tbody tr th:only-of-type {\n",
       "        vertical-align: middle;\n",
       "    }\n",
       "\n",
       "    .dataframe tbody tr th {\n",
       "        vertical-align: top;\n",
       "    }\n",
       "\n",
       "    .dataframe thead th {\n",
       "        text-align: right;\n",
       "    }\n",
       "</style>\n",
       "<table border=\"1\" class=\"dataframe\">\n",
       "  <thead>\n",
       "    <tr style=\"text-align: right;\">\n",
       "      <th></th>\n",
       "      <th>App</th>\n",
       "      <th>Category</th>\n",
       "      <th>Rating</th>\n",
       "      <th>Reviews</th>\n",
       "      <th>Size</th>\n",
       "      <th>Installs</th>\n",
       "      <th>Type</th>\n",
       "      <th>Price</th>\n",
       "      <th>Content Rating</th>\n",
       "      <th>Genres</th>\n",
       "      <th>Last Updated</th>\n",
       "      <th>Current Ver</th>\n",
       "      <th>Android Ver</th>\n",
       "    </tr>\n",
       "  </thead>\n",
       "  <tbody>\n",
       "    <tr>\n",
       "      <th>0</th>\n",
       "      <td>Photo Editor &amp; Candy Camera &amp; Grid &amp; ScrapBook</td>\n",
       "      <td>ART_AND_DESIGN</td>\n",
       "      <td>4.1</td>\n",
       "      <td>159</td>\n",
       "      <td>19M</td>\n",
       "      <td>10,000+</td>\n",
       "      <td>Free</td>\n",
       "      <td>0</td>\n",
       "      <td>Everyone</td>\n",
       "      <td>Art &amp; Design</td>\n",
       "      <td>January 7, 2018</td>\n",
       "      <td>1.0.0</td>\n",
       "      <td>4.0.3 and up</td>\n",
       "    </tr>\n",
       "    <tr>\n",
       "      <th>1</th>\n",
       "      <td>Coloring book moana</td>\n",
       "      <td>ART_AND_DESIGN</td>\n",
       "      <td>3.9</td>\n",
       "      <td>967</td>\n",
       "      <td>14M</td>\n",
       "      <td>500,000+</td>\n",
       "      <td>Free</td>\n",
       "      <td>0</td>\n",
       "      <td>Everyone</td>\n",
       "      <td>Art &amp; Design;Pretend Play</td>\n",
       "      <td>January 15, 2018</td>\n",
       "      <td>2.0.0</td>\n",
       "      <td>4.0.3 and up</td>\n",
       "    </tr>\n",
       "    <tr>\n",
       "      <th>2</th>\n",
       "      <td>U Launcher Lite – FREE Live Cool Themes, Hide ...</td>\n",
       "      <td>ART_AND_DESIGN</td>\n",
       "      <td>4.7</td>\n",
       "      <td>87510</td>\n",
       "      <td>8.7M</td>\n",
       "      <td>5,000,000+</td>\n",
       "      <td>Free</td>\n",
       "      <td>0</td>\n",
       "      <td>Everyone</td>\n",
       "      <td>Art &amp; Design</td>\n",
       "      <td>August 1, 2018</td>\n",
       "      <td>1.2.4</td>\n",
       "      <td>4.0.3 and up</td>\n",
       "    </tr>\n",
       "    <tr>\n",
       "      <th>3</th>\n",
       "      <td>Sketch - Draw &amp; Paint</td>\n",
       "      <td>ART_AND_DESIGN</td>\n",
       "      <td>4.5</td>\n",
       "      <td>215644</td>\n",
       "      <td>25M</td>\n",
       "      <td>50,000,000+</td>\n",
       "      <td>Free</td>\n",
       "      <td>0</td>\n",
       "      <td>Teen</td>\n",
       "      <td>Art &amp; Design</td>\n",
       "      <td>June 8, 2018</td>\n",
       "      <td>Varies with device</td>\n",
       "      <td>4.2 and up</td>\n",
       "    </tr>\n",
       "    <tr>\n",
       "      <th>4</th>\n",
       "      <td>Pixel Draw - Number Art Coloring Book</td>\n",
       "      <td>ART_AND_DESIGN</td>\n",
       "      <td>4.3</td>\n",
       "      <td>967</td>\n",
       "      <td>2.8M</td>\n",
       "      <td>100,000+</td>\n",
       "      <td>Free</td>\n",
       "      <td>0</td>\n",
       "      <td>Everyone</td>\n",
       "      <td>Art &amp; Design;Creativity</td>\n",
       "      <td>June 20, 2018</td>\n",
       "      <td>1.1</td>\n",
       "      <td>4.4 and up</td>\n",
       "    </tr>\n",
       "  </tbody>\n",
       "</table>\n",
       "</div>"
      ],
      "text/plain": [
       "                                                 App        Category  Rating  \\\n",
       "0     Photo Editor & Candy Camera & Grid & ScrapBook  ART_AND_DESIGN     4.1   \n",
       "1                                Coloring book moana  ART_AND_DESIGN     3.9   \n",
       "2  U Launcher Lite – FREE Live Cool Themes, Hide ...  ART_AND_DESIGN     4.7   \n",
       "3                              Sketch - Draw & Paint  ART_AND_DESIGN     4.5   \n",
       "4              Pixel Draw - Number Art Coloring Book  ART_AND_DESIGN     4.3   \n",
       "\n",
       "  Reviews  Size     Installs  Type Price Content Rating  \\\n",
       "0     159   19M      10,000+  Free     0       Everyone   \n",
       "1     967   14M     500,000+  Free     0       Everyone   \n",
       "2   87510  8.7M   5,000,000+  Free     0       Everyone   \n",
       "3  215644   25M  50,000,000+  Free     0           Teen   \n",
       "4     967  2.8M     100,000+  Free     0       Everyone   \n",
       "\n",
       "                      Genres      Last Updated         Current Ver  \\\n",
       "0               Art & Design   January 7, 2018               1.0.0   \n",
       "1  Art & Design;Pretend Play  January 15, 2018               2.0.0   \n",
       "2               Art & Design    August 1, 2018               1.2.4   \n",
       "3               Art & Design      June 8, 2018  Varies with device   \n",
       "4    Art & Design;Creativity     June 20, 2018                 1.1   \n",
       "\n",
       "    Android Ver  \n",
       "0  4.0.3 and up  \n",
       "1  4.0.3 and up  \n",
       "2  4.0.3 and up  \n",
       "3    4.2 and up  \n",
       "4    4.4 and up  "
      ]
     },
     "execution_count": 4,
     "metadata": {},
     "output_type": "execute_result"
    }
   ],
   "source": [
    "google_play_data.head()"
   ]
  },
  {
   "cell_type": "code",
   "execution_count": 5,
   "id": "e98f25c0",
   "metadata": {},
   "outputs": [
    {
     "name": "stdout",
     "output_type": "stream",
     "text": [
      "Missing Values:\n",
      " App                  0\n",
      "Category             0\n",
      "Rating            1474\n",
      "Reviews              0\n",
      "Size                 0\n",
      "Installs             0\n",
      "Type                 1\n",
      "Price                0\n",
      "Content Rating       1\n",
      "Genres               0\n",
      "Last Updated         0\n",
      "Current Ver          8\n",
      "Android Ver          3\n",
      "dtype: int64\n"
     ]
    }
   ],
   "source": [
    "# Check for missing values in each column\n",
    "missing_values = google_play_data.isnull().sum()\n",
    "print(\"Missing Values:\\n\", missing_values)"
   ]
  },
  {
   "cell_type": "code",
   "execution_count": 6,
   "id": "b8f91daf",
   "metadata": {},
   "outputs": [],
   "source": [
    "# 1. Handle Missing Values\n",
    "# Fill missing 'Rating' values with the median rating\n",
    "google_play_data['Rating'].fillna(google_play_data['Rating'].median(), inplace=True)\n",
    "\n",
    "# Fill missing 'Type' and 'Content Rating' with their mode\n",
    "google_play_data['Type'].fillna(google_play_data['Type'].mode()[0], inplace=True)\n",
    "google_play_data['Content Rating'].fillna(google_play_data['Content Rating'].mode()[0], inplace=True)\n",
    "\n",
    "# Drop rows with missing 'Current Ver' and 'Android Ver'\n",
    "google_play_data.dropna(subset=['Current Ver', 'Android Ver'], inplace=True)"
   ]
  },
  {
   "cell_type": "code",
   "execution_count": 7,
   "id": "d43ddac4",
   "metadata": {},
   "outputs": [
    {
     "name": "stdout",
     "output_type": "stream",
     "text": [
      "Duplicate Rows: 483\n"
     ]
    }
   ],
   "source": [
    "# Check for duplicates in the dataset\n",
    "duplicate_rows = google_play_data.duplicated().sum()\n",
    "print(\"Duplicate Rows:\", duplicate_rows)"
   ]
  },
  {
   "cell_type": "code",
   "execution_count": 8,
   "id": "db13e5ae",
   "metadata": {},
   "outputs": [],
   "source": [
    "# 2. Remove Duplicates\n",
    "google_play_data.drop_duplicates(inplace=True)"
   ]
  },
  {
   "cell_type": "code",
   "execution_count": 9,
   "id": "ee04bc66",
   "metadata": {},
   "outputs": [
    {
     "name": "stdout",
     "output_type": "stream",
     "text": [
      "Unique Categories: ['ART_AND_DESIGN' 'AUTO_AND_VEHICLES' 'BEAUTY' 'BOOKS_AND_REFERENCE'\n",
      " 'BUSINESS' 'COMICS' 'COMMUNICATION' 'DATING' 'EDUCATION' 'ENTERTAINMENT']\n",
      "\n",
      "Unique Content Ratings: ['Everyone' 'Teen' 'Everyone 10+' 'Mature 17+' 'Adults only 18+' 'Unrated']\n",
      "\n",
      "Unique Types: ['Free' 'Paid']\n"
     ]
    }
   ],
   "source": [
    "# Get unique values in categorical columns for understanding their diversity\n",
    "unique_categories = google_play_data['Category'].unique()\n",
    "unique_content_ratings = google_play_data['Content Rating'].unique()\n",
    "unique_types = google_play_data['Type'].unique()\n",
    "\n",
    "print(\"Unique Categories:\", unique_categories[:10])  # Only print first 10 for brevity\n",
    "print(\"\\nUnique Content Ratings:\", unique_content_ratings)\n",
    "print(\"\\nUnique Types:\", unique_types)"
   ]
  },
  {
   "cell_type": "code",
   "execution_count": 10,
   "id": "ff082c1f",
   "metadata": {},
   "outputs": [
    {
     "name": "stdout",
     "output_type": "stream",
     "text": [
      "Numerical Summary:\n",
      "              Rating\n",
      "count  10347.000000\n",
      "mean       4.203779\n",
      "std        0.485707\n",
      "min        1.000000\n",
      "25%        4.100000\n",
      "50%        4.300000\n",
      "75%        4.500000\n",
      "max        5.000000\n"
     ]
    }
   ],
   "source": [
    "# Summarize numerical columns (like Rating)\n",
    "numerical_summary = google_play_data.describe()\n",
    "print(\"Numerical Summary:\\n\", numerical_summary)"
   ]
  },
  {
   "cell_type": "code",
   "execution_count": 11,
   "id": "ffbaef59",
   "metadata": {},
   "outputs": [
    {
     "name": "stderr",
     "output_type": "stream",
     "text": [
      "<ipython-input-11-0f952a2bc078>:3: FutureWarning: The default value of regex will change from True to False in a future version. In addition, single character regular expressions will*not* be treated as literal strings when regex=True.\n",
      "  google_play_data['Installs'] = google_play_data['Installs'].str.replace(',', '').str.replace('+', '').astype(int)\n",
      "<ipython-input-11-0f952a2bc078>:9: FutureWarning: The default value of regex will change from True to False in a future version. In addition, single character regular expressions will*not* be treated as literal strings when regex=True.\n",
      "  google_play_data['Price'] = google_play_data['Price'].str.replace('$', '').astype(float)\n"
     ]
    }
   ],
   "source": [
    "# 3. Clean and Convert Data\n",
    "# Remove non-numeric characters from 'Installs' and convert to integer\n",
    "google_play_data['Installs'] = google_play_data['Installs'].str.replace(',', '').str.replace('+', '').astype(int)\n",
    "\n",
    "# Convert 'Reviews' to integer\n",
    "google_play_data['Reviews'] = google_play_data['Reviews'].astype(int)\n",
    "\n",
    "# Remove '$' from 'Price' and convert to float\n",
    "google_play_data['Price'] = google_play_data['Price'].str.replace('$', '').astype(float)"
   ]
  },
  {
   "cell_type": "code",
   "execution_count": 12,
   "id": "219e1ef3",
   "metadata": {},
   "outputs": [],
   "source": [
    "# Standardize 'Size' by replacing 'M', 'k', and handling 'Varies with device'\n",
    "def convert_size(size):\n",
    "    if 'M' in size:\n",
    "        return float(size.replace('M', '')) * 1024  # Convert MB to KB\n",
    "    elif 'k' in size:\n",
    "        return float(size.replace('k', ''))\n",
    "    else:\n",
    "        return np.nan  # For 'Varies with device'\n",
    "\n",
    "google_play_data['Size'] = google_play_data['Size'].replace('Varies with device', np.nan)\n",
    "google_play_data['Size'] = google_play_data['Size'].str.replace('M', '').str.replace('k', '').astype(str).apply(convert_size)"
   ]
  },
  {
   "cell_type": "code",
   "execution_count": 13,
   "id": "96c670ae",
   "metadata": {},
   "outputs": [],
   "source": [
    "# Fill missing sizes with the median size\n",
    "google_play_data['Size'].fillna(google_play_data['Size'].median(), inplace=True)\n",
    "\n",
    "# Convert 'Last Updated' to datetime format\n",
    "google_play_data['Last Updated'] = pd.to_datetime(google_play_data['Last Updated'])"
   ]
  },
  {
   "cell_type": "code",
   "execution_count": 14,
   "id": "0f2c5b16",
   "metadata": {
    "scrolled": true
   },
   "outputs": [
    {
     "name": "stdout",
     "output_type": "stream",
     "text": [
      "<class 'pandas.core.frame.DataFrame'>\n",
      "Int64Index: 10347 entries, 0 to 10840\n",
      "Data columns (total 13 columns):\n",
      " #   Column          Non-Null Count  Dtype         \n",
      "---  ------          --------------  -----         \n",
      " 0   App             10347 non-null  object        \n",
      " 1   Category        10347 non-null  object        \n",
      " 2   Rating          10347 non-null  float64       \n",
      " 3   Reviews         10347 non-null  int32         \n",
      " 4   Size            0 non-null      float64       \n",
      " 5   Installs        10347 non-null  int32         \n",
      " 6   Type            10347 non-null  object        \n",
      " 7   Price           10347 non-null  float64       \n",
      " 8   Content Rating  10347 non-null  object        \n",
      " 9   Genres          10347 non-null  object        \n",
      " 10  Last Updated    10347 non-null  datetime64[ns]\n",
      " 11  Current Ver     10347 non-null  object        \n",
      " 12  Android Ver     10347 non-null  object        \n",
      "dtypes: datetime64[ns](1), float64(3), int32(2), object(7)\n",
      "memory usage: 1.0+ MB\n"
     ]
    },
    {
     "data": {
      "text/html": [
       "<div>\n",
       "<style scoped>\n",
       "    .dataframe tbody tr th:only-of-type {\n",
       "        vertical-align: middle;\n",
       "    }\n",
       "\n",
       "    .dataframe tbody tr th {\n",
       "        vertical-align: top;\n",
       "    }\n",
       "\n",
       "    .dataframe thead th {\n",
       "        text-align: right;\n",
       "    }\n",
       "</style>\n",
       "<table border=\"1\" class=\"dataframe\">\n",
       "  <thead>\n",
       "    <tr style=\"text-align: right;\">\n",
       "      <th></th>\n",
       "      <th>App</th>\n",
       "      <th>Category</th>\n",
       "      <th>Rating</th>\n",
       "      <th>Reviews</th>\n",
       "      <th>Size</th>\n",
       "      <th>Installs</th>\n",
       "      <th>Type</th>\n",
       "      <th>Price</th>\n",
       "      <th>Content Rating</th>\n",
       "      <th>Genres</th>\n",
       "      <th>Last Updated</th>\n",
       "      <th>Current Ver</th>\n",
       "      <th>Android Ver</th>\n",
       "    </tr>\n",
       "  </thead>\n",
       "  <tbody>\n",
       "    <tr>\n",
       "      <th>0</th>\n",
       "      <td>Photo Editor &amp; Candy Camera &amp; Grid &amp; ScrapBook</td>\n",
       "      <td>ART_AND_DESIGN</td>\n",
       "      <td>4.1</td>\n",
       "      <td>159</td>\n",
       "      <td>NaN</td>\n",
       "      <td>10000</td>\n",
       "      <td>Free</td>\n",
       "      <td>0.0</td>\n",
       "      <td>Everyone</td>\n",
       "      <td>Art &amp; Design</td>\n",
       "      <td>2018-01-07</td>\n",
       "      <td>1.0.0</td>\n",
       "      <td>4.0.3 and up</td>\n",
       "    </tr>\n",
       "    <tr>\n",
       "      <th>1</th>\n",
       "      <td>Coloring book moana</td>\n",
       "      <td>ART_AND_DESIGN</td>\n",
       "      <td>3.9</td>\n",
       "      <td>967</td>\n",
       "      <td>NaN</td>\n",
       "      <td>500000</td>\n",
       "      <td>Free</td>\n",
       "      <td>0.0</td>\n",
       "      <td>Everyone</td>\n",
       "      <td>Art &amp; Design;Pretend Play</td>\n",
       "      <td>2018-01-15</td>\n",
       "      <td>2.0.0</td>\n",
       "      <td>4.0.3 and up</td>\n",
       "    </tr>\n",
       "    <tr>\n",
       "      <th>2</th>\n",
       "      <td>U Launcher Lite – FREE Live Cool Themes, Hide ...</td>\n",
       "      <td>ART_AND_DESIGN</td>\n",
       "      <td>4.7</td>\n",
       "      <td>87510</td>\n",
       "      <td>NaN</td>\n",
       "      <td>5000000</td>\n",
       "      <td>Free</td>\n",
       "      <td>0.0</td>\n",
       "      <td>Everyone</td>\n",
       "      <td>Art &amp; Design</td>\n",
       "      <td>2018-08-01</td>\n",
       "      <td>1.2.4</td>\n",
       "      <td>4.0.3 and up</td>\n",
       "    </tr>\n",
       "    <tr>\n",
       "      <th>3</th>\n",
       "      <td>Sketch - Draw &amp; Paint</td>\n",
       "      <td>ART_AND_DESIGN</td>\n",
       "      <td>4.5</td>\n",
       "      <td>215644</td>\n",
       "      <td>NaN</td>\n",
       "      <td>50000000</td>\n",
       "      <td>Free</td>\n",
       "      <td>0.0</td>\n",
       "      <td>Teen</td>\n",
       "      <td>Art &amp; Design</td>\n",
       "      <td>2018-06-08</td>\n",
       "      <td>Varies with device</td>\n",
       "      <td>4.2 and up</td>\n",
       "    </tr>\n",
       "    <tr>\n",
       "      <th>4</th>\n",
       "      <td>Pixel Draw - Number Art Coloring Book</td>\n",
       "      <td>ART_AND_DESIGN</td>\n",
       "      <td>4.3</td>\n",
       "      <td>967</td>\n",
       "      <td>NaN</td>\n",
       "      <td>100000</td>\n",
       "      <td>Free</td>\n",
       "      <td>0.0</td>\n",
       "      <td>Everyone</td>\n",
       "      <td>Art &amp; Design;Creativity</td>\n",
       "      <td>2018-06-20</td>\n",
       "      <td>1.1</td>\n",
       "      <td>4.4 and up</td>\n",
       "    </tr>\n",
       "  </tbody>\n",
       "</table>\n",
       "</div>"
      ],
      "text/plain": [
       "                                                 App        Category  Rating  \\\n",
       "0     Photo Editor & Candy Camera & Grid & ScrapBook  ART_AND_DESIGN     4.1   \n",
       "1                                Coloring book moana  ART_AND_DESIGN     3.9   \n",
       "2  U Launcher Lite – FREE Live Cool Themes, Hide ...  ART_AND_DESIGN     4.7   \n",
       "3                              Sketch - Draw & Paint  ART_AND_DESIGN     4.5   \n",
       "4              Pixel Draw - Number Art Coloring Book  ART_AND_DESIGN     4.3   \n",
       "\n",
       "   Reviews  Size  Installs  Type  Price Content Rating  \\\n",
       "0      159   NaN     10000  Free    0.0       Everyone   \n",
       "1      967   NaN    500000  Free    0.0       Everyone   \n",
       "2    87510   NaN   5000000  Free    0.0       Everyone   \n",
       "3   215644   NaN  50000000  Free    0.0           Teen   \n",
       "4      967   NaN    100000  Free    0.0       Everyone   \n",
       "\n",
       "                      Genres Last Updated         Current Ver   Android Ver  \n",
       "0               Art & Design   2018-01-07               1.0.0  4.0.3 and up  \n",
       "1  Art & Design;Pretend Play   2018-01-15               2.0.0  4.0.3 and up  \n",
       "2               Art & Design   2018-08-01               1.2.4  4.0.3 and up  \n",
       "3               Art & Design   2018-06-08  Varies with device    4.2 and up  \n",
       "4    Art & Design;Creativity   2018-06-20                 1.1    4.4 and up  "
      ]
     },
     "execution_count": 14,
     "metadata": {},
     "output_type": "execute_result"
    }
   ],
   "source": [
    "# 4. Address Outliers\n",
    "# Cap 'Rating' at 5 (as ratings typically range from 1 to 5)\n",
    "google_play_data['Rating'] = google_play_data['Rating'].clip(upper=5)\n",
    "\n",
    "# Remove invalid 'Category' value (e.g., '1.9')\n",
    "google_play_data = google_play_data[google_play_data['Category'] != '1.9']\n",
    "\n",
    "# Verify the cleaning steps\n",
    "google_play_data.info()\n",
    "google_play_data.head()"
   ]
  },
  {
   "cell_type": "code",
   "execution_count": 15,
   "id": "adc052c4",
   "metadata": {
    "scrolled": true
   },
   "outputs": [
    {
     "data": {
      "image/png": "[encoded data removed]",
      "text/plain": [
       "<Figure size 720x432 with 1 Axes>"
      ]
     },
     "metadata": {
      "needs_background": "light"
     },
     "output_type": "display_data"
    }
   ],
   "source": [
    "# Distribution of Ratings\n",
    "plt.figure(figsize=(10, 6))\n",
    "sns.histplot(google_play_data['Rating'], bins=20, kde=True, color='blue')\n",
    "plt.title('Distribution of App Ratings')\n",
    "plt.xlabel('Rating')\n",
    "plt.ylabel('Frequency')\n",
    "plt.show()"
   ]
  },
  {
   "cell_type": "code",
   "execution_count": 16,
   "id": "4cdf3d23",
   "metadata": {
    "scrolled": true
   },
   "outputs": [
    {
     "data": {
      "image/png": "[encoded data removed]",
      "text/plain": [
       "<Figure size 720x432 with 1 Axes>"
      ]
     },
     "metadata": {
      "needs_background": "light"
     },
     "output_type": "display_data"
    }
   ],
   "source": [
    "# Distribution of Installs\n",
    "plt.figure(figsize=(10, 6))\n",
    "sns.histplot(google_play_data['Installs'], bins=20, kde=False, color='green')\n",
    "plt.title('Distribution of App Installs')\n",
    "plt.xlabel('Installs')\n",
    "plt.ylabel('Frequency')\n",
    "plt.show()"
   ]
  },
  {
   "cell_type": "code",
   "execution_count": 17,
   "id": "3b6c6067",
   "metadata": {
    "scrolled": true
   },
   "outputs": [
    {
     "data": {
      "image/png": "[encoded data removed]",
      "text/plain": [
       "<Figure size 720x432 with 1 Axes>"
      ]
     },
     "metadata": {
      "needs_background": "light"
     },
     "output_type": "display_data"
    }
   ],
   "source": [
    "# Distribution of Prices (Paid Apps Only)\n",
    "plt.figure(figsize=(10, 6))\n",
    "sns.histplot(google_play_data[google_play_data['Price'] > 0]['Price'], bins=20, kde=True, color='red')\n",
    "plt.title('Distribution of App Prices (Paid Apps Only)')\n",
    "plt.xlabel('Price ($)')\n",
    "plt.ylabel('Frequency')\n",
    "plt.show()"
   ]
  },
  {
   "cell_type": "code",
   "execution_count": 18,
   "id": "7f1443f0",
   "metadata": {
    "scrolled": false
   },
   "outputs": [
    {
     "name": "stdout",
     "output_type": "stream",
     "text": [
      "Top Categories by App Count:\n",
      " FAMILY      1940\n",
      "GAME        1121\n",
      "TOOLS        841\n",
      "BUSINESS     427\n",
      "MEDICAL      408\n",
      "Name: Category, dtype: int64\n",
      "\n",
      "Average Ratings by Category:\n",
      " Category\n",
      "EVENTS                 4.395313\n",
      "EDUCATION              4.375385\n",
      "ART_AND_DESIGN         4.373437\n",
      "BOOKS_AND_REFERENCE    4.336681\n",
      "PERSONALIZATION        4.326425\n",
      "Name: Rating, dtype: float64\n"
     ]
    }
   ],
   "source": [
    "# Top Categories by App Count\n",
    "category_counts = google_play_data['Category'].value_counts()\n",
    "\n",
    "# Average ratings by category\n",
    "avg_rating_by_category = google_play_data.groupby('Category')['Rating'].mean().sort_values(ascending=False)\n",
    "\n",
    "# Display the results\n",
    "print(\"Top Categories by App Count:\\n\", category_counts.head())\n",
    "print(\"\\nAverage Ratings by Category:\\n\", avg_rating_by_category.head())"
   ]
  },
  {
   "cell_type": "code",
   "execution_count": 19,
   "id": "4b1e5a04",
   "metadata": {
    "scrolled": true
   },
   "outputs": [
    {
     "name": "stdout",
     "output_type": "stream",
     "text": [
      "\n",
      "Top 10 Apps by Installs:\n",
      "                             App    Installs\n",
      "336          WhatsApp Messenger  1000000000\n",
      "2554                    Google+  1000000000\n",
      "3127         Google Street View  1000000000\n",
      "3816                Google News  1000000000\n",
      "3223  Maps - Navigate & Explore  1000000000\n",
      "2545                  Instagram  1000000000\n",
      "2544                   Facebook  1000000000\n",
      "865           Google Play Games  1000000000\n",
      "3234                     Google  1000000000\n",
      "3736                Google News  1000000000\n",
      "\n",
      "Top 10 Apps by Reviews:\n",
      "                                            App   Reviews\n",
      "2544                                  Facebook  78158306\n",
      "3943                                  Facebook  78128208\n",
      "336                         WhatsApp Messenger  69119316\n",
      "3904                        WhatsApp Messenger  69109672\n",
      "2604                                 Instagram  66577446\n",
      "2545                                 Instagram  66577313\n",
      "3909                                 Instagram  66509917\n",
      "382   Messenger – Text and Video Chat for Free  56646578\n",
      "335   Messenger – Text and Video Chat for Free  56642847\n",
      "1879                            Clash of Clans  44893888\n"
     ]
    }
   ],
   "source": [
    "# Top 10 apps by installs\n",
    "top_installed_apps = google_play_data[['App', 'Installs']].sort_values(by='Installs', ascending=False).head(10)\n",
    "\n",
    "# Top 10 apps by reviews\n",
    "top_reviewed_apps = google_play_data[['App', 'Reviews']].sort_values(by='Reviews', ascending=False).head(10)\n",
    "\n",
    "# Display the results\n",
    "print(\"\\nTop 10 Apps by Installs:\\n\", top_installed_apps)\n",
    "print(\"\\nTop 10 Apps by Reviews:\\n\", top_reviewed_apps)"
   ]
  },
  {
   "cell_type": "code",
   "execution_count": 20,
   "id": "63b08ae4",
   "metadata": {},
   "outputs": [
    {
     "name": "stdout",
     "output_type": "stream",
     "text": [
      "\n",
      "Top 5 Genres by Average Rating:\n",
      " Genres\n",
      "Comics;Creativity              4.8\n",
      "Board;Pretend Play             4.8\n",
      "Health & Fitness;Education     4.7\n",
      "Strategy;Action & Adventure    4.6\n",
      "Adventure;Brain Games          4.6\n",
      "Name: Rating, dtype: float64\n"
     ]
    }
   ],
   "source": [
    "# Calculate average ratings for each genre\n",
    "avg_rating_by_genre = google_play_data.groupby('Genres')['Rating'].mean().sort_values(ascending=False)\n",
    "\n",
    "# Display the top 5 genres\n",
    "print(\"\\nTop 5 Genres by Average Rating:\\n\", avg_rating_by_genre.head())"
   ]
  },
  {
   "cell_type": "code",
   "execution_count": 21,
   "id": "4536127f",
   "metadata": {},
   "outputs": [
    {
     "name": "stdout",
     "output_type": "stream",
     "text": [
      "\n",
      "Free vs Paid Apps Comparison:\n",
      "       avg_installs  avg_rating\n",
      "Type                          \n",
      "Free  1.529068e+07    4.198571\n",
      "Paid  9.078067e+04    4.269291\n"
     ]
    }
   ],
   "source": [
    "# Compare average installs and ratings for free vs. paid apps\n",
    "free_vs_paid = google_play_data.groupby('Type').agg(\n",
    "    avg_installs=('Installs', 'mean'),\n",
    "    avg_rating=('Rating', 'mean')\n",
    ")\n",
    "\n",
    "# Display the results\n",
    "print(\"\\nFree vs Paid Apps Comparison:\\n\", free_vs_paid)"
   ]
  },
  {
   "cell_type": "code",
   "execution_count": 22,
   "id": "a2b8eb04",
   "metadata": {
    "scrolled": true
   },
   "outputs": [
    {
     "data": {
      "image/png": "[encoded data removed]",
      "text/plain": [
       "<Figure size 864x576 with 1 Axes>"
      ]
     },
     "metadata": {
      "needs_background": "light"
     },
     "output_type": "display_data"
    }
   ],
   "source": [
    "# Top 10 categories by app count\n",
    "plt.figure(figsize=(12, 8))\n",
    "category_counts = google_play_data['Category'].value_counts().head(10)\n",
    "sns.barplot(x=category_counts.values, y=category_counts.index, palette='viridis')\n",
    "plt.title('Top 10 Categories by App Count')\n",
    "plt.xlabel('Number of Apps')\n",
    "plt.ylabel('Category')\n",
    "plt.show()"
   ]
  },
  {
   "cell_type": "code",
   "execution_count": 23,
   "id": "eb7d20ba",
   "metadata": {
    "scrolled": true
   },
   "outputs": [
    {
     "data": {
      "image/png": "[encoded data removed]",
      "text/plain": [
       "<Figure size 864x576 with 1 Axes>"
      ]
     },
     "metadata": {
      "needs_background": "light"
     },
     "output_type": "display_data"
    }
   ],
   "source": [
    "# Top 10 categories by average rating\n",
    "plt.figure(figsize=(12, 8))\n",
    "avg_rating_by_category = google_play_data.groupby('Category')['Rating'].mean().sort_values(ascending=False).head(10)\n",
    "sns.barplot(x=avg_rating_by_category.values, y=avg_rating_by_category.index, palette='coolwarm')\n",
    "plt.title('Top 10 Categories by Average Rating')\n",
    "plt.xlabel('Average Rating')\n",
    "plt.ylabel('Category')\n",
    "plt.show()"
   ]
  },
  {
   "cell_type": "code",
   "execution_count": 24,
   "id": "9e067682",
   "metadata": {
    "scrolled": true
   },
   "outputs": [
    {
     "data": {
      "image/png": "[encoded data removed]",
      "text/plain": [
       "<Figure size 720x432 with 2 Axes>"
      ]
     },
     "metadata": {
      "needs_background": "light"
     },
     "output_type": "display_data"
    }
   ],
   "source": [
    "# Visualizing free vs. paid apps comparison\n",
    "free_vs_paid = google_play_data.groupby('Type').agg(\n",
    "    avg_installs=('Installs', 'mean'),\n",
    "    avg_rating=('Rating', 'mean')\n",
    ").reset_index()\n",
    "\n",
    "fig, ax1 = plt.subplots(figsize=(10, 6))\n",
    "\n",
    "# Bar chart for average installs\n",
    "sns.barplot(x='Type', y='avg_installs', data=free_vs_paid, ax=ax1, palette='Blues', alpha=0.7)\n",
    "ax1.set_title('Free vs Paid Apps: Average Installs and Ratings')\n",
    "ax1.set_ylabel('Average Installs')\n",
    "ax1.set_xlabel('App Type')\n",
    "\n",
    "# Line plot for average ratings\n",
    "ax2 = ax1.twinx()\n",
    "sns.lineplot(x='Type', y='avg_rating', data=free_vs_paid, ax=ax2, color='red', marker='o')\n",
    "ax2.set_ylabel('Average Rating', color='red')\n",
    "\n",
    "plt.show()"
   ]
  },
  {
   "cell_type": "code",
   "execution_count": 25,
   "id": "3d75d838",
   "metadata": {
    "scrolled": true
   },
   "outputs": [
    {
     "ename": "SyntaxError",
     "evalue": "invalid syntax (<ipython-input-25-a0a241c4ad04>, line 8)",
     "output_type": "error",
     "traceback": [
      "\u001b[1;36m  File \u001b[1;32m\"<ipython-input-25-a0a241c4ad04>\"\u001b[1;36m, line \u001b[1;32m8\u001b[0m\n\u001b[1;33m    plt.show()`\u001b[0m\n\u001b[1;37m              ^\u001b[0m\n\u001b[1;31mSyntaxError\u001b[0m\u001b[1;31m:\u001b[0m invalid syntax\n"
     ]
    }
   ],
   "source": [
    "# Top 10 apps by installs\n",
    "plt.figure(figsize=(12, 8))\n",
    "top_installed_apps = google_play_data[['App', 'Installs']].sort_values(by='Installs', ascending=False).head(10)\n",
    "sns.barplot(x='Installs', y='App', data=top_installed_apps, palette='summer')\n",
    "plt.title('Top 10 Apps by Installs')\n",
    "plt.xlabel('Number of Installs')\n",
    "plt.ylabel('App')\n",
    "plt.show()`"
   ]
  },
  {
   "cell_type": "code",
   "execution_count": null,
   "id": "f83c0101",
   "metadata": {},
   "outputs": [],
   "source": []
  }
 ],
 "metadata": {
  "kernelspec": {
   "display_name": "Python 3",
   "language": "python",
   "name": "python3"
  },
  "language_info": {
   "codemirror_mode": {
    "name": "ipython",
    "version": 3
   },
   "file_extension": ".py",
   "mimetype": "text/x-python",
   "name": "python",
   "nbconvert_exporter": "python",
   "pygments_lexer": "ipython3",
   "version": "3.8.8"
  }
 },
 "nbformat": 4,
 "nbformat_minor": 5
}
